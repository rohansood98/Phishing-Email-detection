{
 "cells": [
  {
   "cell_type": "code",
   "execution_count": 1,
   "metadata": {},
   "outputs": [
    {
     "ename": "ModuleNotFoundError",
     "evalue": "No module named 'tensorflow.keras.wrappers'",
     "output_type": "error",
     "traceback": [
      "\u001b[1;31m---------------------------------------------------------------------------\u001b[0m",
      "\u001b[1;31mModuleNotFoundError\u001b[0m                       Traceback (most recent call last)",
      "Cell \u001b[1;32mIn[1], line 20\u001b[0m\n\u001b[0;32m     18\u001b[0m \u001b[38;5;28;01mfrom\u001b[39;00m \u001b[38;5;21;01mtensorflow\u001b[39;00m\u001b[38;5;21;01m.\u001b[39;00m\u001b[38;5;21;01mkeras\u001b[39;00m\u001b[38;5;21;01m.\u001b[39;00m\u001b[38;5;21;01mmodels\u001b[39;00m \u001b[38;5;28;01mimport\u001b[39;00m Sequential\n\u001b[0;32m     19\u001b[0m \u001b[38;5;28;01mfrom\u001b[39;00m \u001b[38;5;21;01mtensorflow\u001b[39;00m\u001b[38;5;21;01m.\u001b[39;00m\u001b[38;5;21;01mkeras\u001b[39;00m\u001b[38;5;21;01m.\u001b[39;00m\u001b[38;5;21;01mlayers\u001b[39;00m \u001b[38;5;28;01mimport\u001b[39;00m Embedding, Conv1D, GlobalMaxPooling1D, Dense, LSTM, SpatialDropout1D\n\u001b[1;32m---> 20\u001b[0m \u001b[38;5;28;01mfrom\u001b[39;00m \u001b[38;5;21;01mtensorflow\u001b[39;00m\u001b[38;5;21;01m.\u001b[39;00m\u001b[38;5;21;01mkeras\u001b[39;00m\u001b[38;5;21;01m.\u001b[39;00m\u001b[38;5;21;01mwrappers\u001b[39;00m\u001b[38;5;21;01m.\u001b[39;00m\u001b[38;5;21;01mscikit_learn\u001b[39;00m \u001b[38;5;28;01mimport\u001b[39;00m KerasClassifier\n\u001b[0;32m     21\u001b[0m \u001b[38;5;28;01mfrom\u001b[39;00m \u001b[38;5;21;01mtensorflow\u001b[39;00m\u001b[38;5;21;01m.\u001b[39;00m\u001b[38;5;21;01mkeras\u001b[39;00m\u001b[38;5;21;01m.\u001b[39;00m\u001b[38;5;21;01mpreprocessing\u001b[39;00m\u001b[38;5;21;01m.\u001b[39;00m\u001b[38;5;21;01mtext\u001b[39;00m \u001b[38;5;28;01mimport\u001b[39;00m Tokenizer\n\u001b[0;32m     22\u001b[0m \u001b[38;5;28;01mfrom\u001b[39;00m \u001b[38;5;21;01mtensorflow\u001b[39;00m\u001b[38;5;21;01m.\u001b[39;00m\u001b[38;5;21;01mkeras\u001b[39;00m\u001b[38;5;21;01m.\u001b[39;00m\u001b[38;5;21;01mpreprocessing\u001b[39;00m\u001b[38;5;21;01m.\u001b[39;00m\u001b[38;5;21;01msequence\u001b[39;00m \u001b[38;5;28;01mimport\u001b[39;00m pad_sequences\n",
      "\u001b[1;31mModuleNotFoundError\u001b[0m: No module named 'tensorflow.keras.wrappers'"
     ]
    }
   ],
   "source": [
    "import pandas as pd\n",
    "import numpy as np\n",
    "from sklearn.model_selection import train_test_split, GridSearchCV\n",
    "from sklearn.feature_extraction.text import TfidfVectorizer\n",
    "from sklearn.ensemble import RandomForestClassifier\n",
    "from sklearn.svm import SVC\n",
    "from sklearn.neighbors import KNeighborsClassifier\n",
    "from sklearn.pipeline import Pipeline\n",
    "from sklearn.metrics import classification_report, roc_curve, auc, RocCurveDisplay\n",
    "import re\n",
    "import string\n",
    "from nltk.corpus import stopwords\n",
    "from nltk.tokenize import word_tokenize\n",
    "from nltk.stem import PorterStemmer\n",
    "import nltk\n",
    "import pickle\n",
    "import os\n",
    "from tensorflow.keras.models import Sequential\n",
    "from tensorflow.keras.layers import Embedding, Conv1D, GlobalMaxPooling1D, Dense, LSTM, SpatialDropout1D\n",
    "from tensorflow.keras.wrappers.scikit_learn import KerasClassifier\n",
    "from tensorflow.keras.preprocessing.text import Tokenizer\n",
    "from tensorflow.keras.preprocessing.sequence import pad_sequences\n",
    "\n",
    "# Download NLTK data files (if not already installed)\n",
    "nltk.download('stopwords')\n",
    "nltk.download('punkt')\n",
    "\n",
    "def clean_text(text, stop_words):\n",
    "    \"\"\"\n",
    "    Clean the text data by removing punctuation, URLs, converting to lowercase, \n",
    "    and removing stop words.\n",
    "    \"\"\"\n",
    "    # Remove punctuation\n",
    "    text = text.translate(str.maketrans('', '', string.punctuation))\n",
    "    # Replace URLs with the word URL_found\n",
    "    text = re.sub(r'http\\S+|www\\S+|https\\S+', 'URLfound', text, flags=re.MULTILINE)\n",
    "    # Convert to lowercase\n",
    "    text = text.lower()\n",
    "    # Tokenize the text\n",
    "    word_tokens = word_tokenize(text)\n",
    "    # Remove stop words\n",
    "    filtered_text = [word for word in word_tokens if word not in stop_words]\n",
    "    return ' '.join(filtered_text)\n",
    "\n",
    "def stem_text(text):\n",
    "    \"\"\"\n",
    "    Apply stemming to the cleaned text.\n",
    "    \"\"\"\n",
    "    stemmer = PorterStemmer()\n",
    "    word_tokens = word_tokenize(text)\n",
    "    stemmed_text = [stemmer.stem(word) for word in word_tokens]\n",
    "    return ' '.join(stemmed_text)\n",
    "\n",
    "def ml_preprocess(df):\n",
    "    \"\"\"\n",
    "    Preprocess the email dataset for phishing detection.\n",
    "    - Fill missing values in the subject column\n",
    "    - Combine subject and body into a single content column\n",
    "    - Clean the text data\n",
    "    - Perform stemming on the cleaned text\n",
    "    \"\"\"\n",
    "    stop_words = set(stopwords.words('english'))\n",
    "    \n",
    "    # Fill missing values in the subject column with an empty string\n",
    "    df['subject'].fillna('', inplace=True)\n",
    "\n",
    "    # Combine the subject and body into a single column named content\n",
    "    df['content'] = df['subject'] + ' ' + df['body']\n",
    "\n",
    "    # Clean the content column\n",
    "    df['content'] = df['content'].apply(lambda x: clean_text(x, stop_words))\n",
    "\n",
    "    # Perform stemming on the cleaned content\n",
    "    df['content'] = df['content'].apply(stem_text)\n",
    "\n",
    "    # Drop all other columns except label and content\n",
    "    df = df[['label', 'content']]\n",
    "    \n",
    "    return df\n",
    "\n",
    "# Load the dataset\n",
    "df = pd.read_csv(\"Nazario_5.csv\")\n",
    "\n",
    "# Preprocess the dataset\n",
    "df = ml_preprocess(df)\n",
    "\n",
    "# Split the data into training and testing sets\n",
    "X = df['content']\n",
    "y = df['label']\n",
    "X_train, X_test, y_train, y_test = train_test_split(X, y, test_size=0.2, random_state=42)\n",
    "\n",
    "# Define the TfidfVectorizer\n",
    "vectorizer = TfidfVectorizer()\n",
    "\n",
    "# Define the models\n",
    "rf_model = RandomForestClassifier(random_state=42)\n",
    "svm_model = SVC(random_state=42)\n",
    "knn_model = KNeighborsClassifier()\n",
    "\n",
    "# Create pipelines for each model\n",
    "rf_pipeline = Pipeline([\n",
    "    ('vectorizer', vectorizer),\n",
    "    ('classifier', rf_model)\n",
    "])\n",
    "\n",
    "svm_pipeline = Pipeline([\n",
    "    ('vectorizer', vectorizer),\n",
    "    ('classifier', svm_model)\n",
    "])\n",
    "\n",
    "knn_pipeline = Pipeline([\n",
    "    ('vectorizer', vectorizer),\n",
    "    ('classifier', knn_model)\n",
    "])\n",
    "\n"
   ]
  },
  {
   "cell_type": "code",
   "execution_count": null,
   "metadata": {},
   "outputs": [
    {
     "data": {
      "text/html": [
       "<div>\n",
       "<style scoped>\n",
       "    .dataframe tbody tr th:only-of-type {\n",
       "        vertical-align: middle;\n",
       "    }\n",
       "\n",
       "    .dataframe tbody tr th {\n",
       "        vertical-align: top;\n",
       "    }\n",
       "\n",
       "    .dataframe thead th {\n",
       "        text-align: right;\n",
       "    }\n",
       "</style>\n",
       "<table border=\"1\" class=\"dataframe\">\n",
       "  <thead>\n",
       "    <tr style=\"text-align: right;\">\n",
       "      <th></th>\n",
       "      <th>label</th>\n",
       "      <th>content</th>\n",
       "    </tr>\n",
       "  </thead>\n",
       "  <tbody>\n",
       "    <tr>\n",
       "      <th>0</th>\n",
       "      <td>0</td>\n",
       "      <td>fw june 29 bna inc daili labor report user id ...</td>\n",
       "    </tr>\n",
       "    <tr>\n",
       "      <th>1</th>\n",
       "      <td>0</td>\n",
       "      <td>ngx failov plan hi chri tonight roll new repor...</td>\n",
       "    </tr>\n",
       "    <tr>\n",
       "      <th>2</th>\n",
       "      <td>0</td>\n",
       "      <td>intranet site rika r new origin messag thoma p...</td>\n",
       "    </tr>\n",
       "    <tr>\n",
       "      <th>3</th>\n",
       "      <td>0</td>\n",
       "      <td>fw ena upstream compani inform johngerald curr...</td>\n",
       "    </tr>\n",
       "    <tr>\n",
       "      <th>4</th>\n",
       "      <td>0</td>\n",
       "      <td>new master physic gerald staci attach workshee...</td>\n",
       "    </tr>\n",
       "  </tbody>\n",
       "</table>\n",
       "</div>"
      ],
      "text/plain": [
       "   label                                            content\n",
       "0      0  fw june 29 bna inc daili labor report user id ...\n",
       "1      0  ngx failov plan hi chri tonight roll new repor...\n",
       "2      0  intranet site rika r new origin messag thoma p...\n",
       "3      0  fw ena upstream compani inform johngerald curr...\n",
       "4      0  new master physic gerald staci attach workshee..."
      ]
     },
     "execution_count": 15,
     "metadata": {},
     "output_type": "execute_result"
    }
   ],
   "source": [
    "df.head(5)"
   ]
  },
  {
   "cell_type": "code",
   "execution_count": null,
   "metadata": {},
   "outputs": [
    {
     "name": "stdout",
     "output_type": "stream",
     "text": [
      "Fitting 5 folds for each of 36 candidates, totalling 180 fits\n",
      "Best parameters for Random Forest: {'classifier__max_depth': None, 'classifier__min_samples_split': 10, 'classifier__n_estimators': 300}\n"
     ]
    }
   ],
   "source": [
    "\n",
    "# Define the hyperparameters for Grid Search\n",
    "rf_params = {\n",
    "    'classifier__n_estimators': [100, 200, 300],\n",
    "    'classifier__max_depth': [None, 10, 20, 30],\n",
    "    'classifier__min_samples_split': [2, 5, 10]\n",
    "}\n",
    "\n",
    "\n",
    "\n",
    "\n",
    "\n",
    "# Perform Grid Search CV\n",
    "rf_grid = GridSearchCV(rf_pipeline, rf_params, cv=5, n_jobs=-1, verbose=1)\n",
    "\n",
    "# Train and evaluate Random Forest\n",
    "rf_grid.fit(X_train, y_train)\n",
    "\n",
    "print(\"Best parameters for Random Forest:\", rf_grid.best_params_)\n",
    "\n",
    "\n"
   ]
  },
  {
   "cell_type": "code",
   "execution_count": null,
   "metadata": {},
   "outputs": [
    {
     "name": "stdout",
     "output_type": "stream",
     "text": [
      "Random Forest Classification Report:\n",
      "              precision    recall  f1-score   support\n",
      "\n",
      "           0     0.9968    0.9840    0.9904       313\n",
      "           1     0.9836    0.9967    0.9901       300\n",
      "\n",
      "    accuracy                         0.9902       613\n",
      "   macro avg     0.9902    0.9903    0.9902       613\n",
      "weighted avg     0.9903    0.9902    0.9902       613\n",
      "\n"
     ]
    }
   ],
   "source": [
    "\n",
    "rf_pred = rf_grid.predict(X_test)\n",
    "print(\"Random Forest Classification Report:\")\n",
    "print(classification_report(y_test, rf_pred, digits=4))"
   ]
  },
  {
   "cell_type": "code",
   "execution_count": null,
   "metadata": {},
   "outputs": [
    {
     "name": "stdout",
     "output_type": "stream",
     "text": [
      "Fitting 5 folds for each of 6 candidates, totalling 30 fits\n",
      "Best parameters for SVM: {'classifier__C': 1, 'classifier__kernel': 'linear'}\n"
     ]
    }
   ],
   "source": [
    "svm_params = {\n",
    "    'classifier__C': [0.1, 1, 10],\n",
    "    'classifier__kernel': ['linear', 'rbf']\n",
    "}\n",
    "svm_grid = GridSearchCV(svm_pipeline, svm_params, cv=5, n_jobs=-1, verbose=1)\n",
    "# Train and evaluate SVM\n",
    "svm_grid.fit(X_train, y_train)\n",
    "print(\"Best parameters for SVM:\", svm_grid.best_params_)\n"
   ]
  },
  {
   "cell_type": "code",
   "execution_count": null,
   "metadata": {},
   "outputs": [
    {
     "name": "stdout",
     "output_type": "stream",
     "text": [
      "SVM Classification Report:\n",
      "              precision    recall  f1-score   support\n",
      "\n",
      "           0     1.0000    0.9968    0.9984       313\n",
      "           1     0.9967    1.0000    0.9983       300\n",
      "\n",
      "    accuracy                         0.9984       613\n",
      "   macro avg     0.9983    0.9984    0.9984       613\n",
      "weighted avg     0.9984    0.9984    0.9984       613\n",
      "\n"
     ]
    }
   ],
   "source": [
    "\n",
    "svm_pred = svm_grid.predict(X_test)\n",
    "print(\"SVM Classification Report:\")\n",
    "print(classification_report(y_test, svm_pred, digits=4))"
   ]
  },
  {
   "cell_type": "code",
   "execution_count": null,
   "metadata": {},
   "outputs": [
    {
     "name": "stdout",
     "output_type": "stream",
     "text": [
      "Fitting 5 folds for each of 6 candidates, totalling 30 fits\n",
      "Best parameters for KNN: {'classifier__n_neighbors': 5, 'classifier__weights': 'distance'}\n"
     ]
    }
   ],
   "source": [
    "knn_params = {\n",
    "    'classifier__n_neighbors': [3, 5, 7],\n",
    "    'classifier__weights': ['uniform', 'distance']\n",
    "}\n",
    "\n",
    "knn_grid = GridSearchCV(knn_pipeline, knn_params, cv=5, n_jobs=-1, verbose=1)\n",
    "# Train and evaluate KNN\n",
    "knn_grid.fit(X_train, y_train)\n",
    "print(\"Best parameters for KNN:\", knn_grid.best_params_)\n"
   ]
  },
  {
   "cell_type": "code",
   "execution_count": null,
   "metadata": {},
   "outputs": [
    {
     "name": "stdout",
     "output_type": "stream",
     "text": [
      "KNN Classification Report:\n",
      "              precision    recall  f1-score   support\n",
      "\n",
      "           0     1.0000    0.9553    0.9771       313\n",
      "           1     0.9554    1.0000    0.9772       300\n",
      "\n",
      "    accuracy                         0.9772       613\n",
      "   macro avg     0.9777    0.9776    0.9772       613\n",
      "weighted avg     0.9782    0.9772    0.9772       613\n",
      "\n"
     ]
    }
   ],
   "source": [
    "\n",
    "knn_pred = knn_grid.predict(X_test)\n",
    "print(\"KNN Classification Report:\")\n",
    "print(classification_report(y_test, knn_pred, digits=4))"
   ]
  },
  {
   "cell_type": "code",
   "execution_count": null,
   "metadata": {},
   "outputs": [],
   "source": [
    "\n",
    "# Tokenize and pad sequences for deep learning models\n",
    "max_words = 10000\n",
    "max_len = 500\n",
    "tokenizer = Tokenizer(num_words=max_words)\n",
    "tokenizer.fit_on_texts(X_train)\n",
    "\n",
    "X_train_seq = tokenizer.texts_to_sequences(X_train)\n",
    "X_test_seq = tokenizer.texts_to_sequences(X_test)\n",
    "\n",
    "X_train_pad = pad_sequences(X_train_seq, maxlen=max_len)\n",
    "X_test_pad = pad_sequences(X_test_seq, maxlen=max_len)\n",
    "\n",
    "def create_cnn_model():\n",
    "    model = Sequential()\n",
    "    model.add(Embedding(max_words, 128, input_length=max_len))\n",
    "    model.add(Conv1D(128, 5, activation='relu'))\n",
    "    model.add(GlobalMaxPooling1D())\n",
    "    model.add(Dense(1, activation='sigmoid'))\n",
    "    model.compile(optimizer='adam', loss='binary_crossentropy', metrics=['accuracy'])\n",
    "    return model\n",
    "\n",
    "def create_lstm_model():\n",
    "    model = Sequential()\n",
    "    model.add(Embedding(max_words, 128, input_length=max_len))\n",
    "    model.add(SpatialDropout1D(0.2))\n",
    "    model.add(LSTM(100, dropout=0.2, recurrent_dropout=0.2))\n",
    "    model.add(Dense(1, activation='sigmoid'))\n",
    "    model.compile(optimizer='adam', loss='binary_crossentropy', metrics=['accuracy'])\n",
    "    return model\n",
    "\n",
    "cnn_model = KerasClassifier(build_fn=create_cnn_model, epochs=5, batch_size=32, verbose=1)\n",
    "lstm_model = KerasClassifier(build_fn=create_lstm_model, epochs=5, batch_size=32, verbose=1)\n",
    "\n",
    "# Define the hyperparameters for Grid Search\n",
    "cnn_params = {\n",
    "    'epochs': [5, 10],\n",
    "    'batch_size': [32, 64]\n",
    "}\n",
    "lstm_params = {\n",
    "    'epochs': [5, 10],\n",
    "    'batch_size': [32, 64]\n",
    "}\n",
    "\n",
    "\n"
   ]
  },
  {
   "cell_type": "code",
   "execution_count": null,
   "metadata": {},
   "outputs": [],
   "source": [
    "\n",
    "cnn_grid = GridSearchCV(cnn_model, cnn_params, cv=3, n_jobs=-1, verbose=1)\n",
    "\n",
    "# Train and evaluate CNN\n",
    "cnn_grid.fit(X_train_pad, y_train)\n",
    "print(\"Best parameters for CNN:\", cnn_grid.best_params_)\n",
    "cnn_pred = cnn_grid.predict(X_test_pad)\n",
    "print(\"CNN Classification Report:\")\n",
    "print(classification_report(y_test, cnn_pred, digits=4))"
   ]
  },
  {
   "cell_type": "code",
   "execution_count": null,
   "metadata": {},
   "outputs": [],
   "source": [
    "lstm_grid = GridSearchCV(lstm_model, lstm_params, cv=3, n_jobs=-1, verbose=1)\n",
    "\n",
    "\n",
    "# Train and evaluate LSTM\n",
    "lstm_grid.fit(X_train_pad, y_train)\n",
    "print(\"Best parameters for LSTM:\", lstm_grid.best_params_)\n",
    "lstm_pred = lstm_grid.predict(X_test_pad)\n",
    "print(\"LSTM Classification Report:\")\n",
    "print(classification_report(y_test, lstm_pred, digits=4))"
   ]
  },
  {
   "cell_type": "code",
   "execution_count": null,
   "metadata": {},
   "outputs": [],
   "source": [
    "# Save models\n",
    "if not os.path.exists('models'):\n",
    "    os.makedirs('models')\n",
    "\n",
    "with open('models/rf_model.pkl', 'wb') as f:\n",
    "    pickle.dump(rf_grid.best_estimator_, f)\n",
    "\n",
    "with open('models/svm_model.pkl', 'wb') as f:\n",
    "    pickle.dump(svm_grid.best_estimator_, f)\n",
    "\n",
    "with open('models/knn_model.pkl', 'wb') as f:\n",
    "    pickle.dump(knn_grid.best_estimator_, f)\n",
    "\n",
    "cnn_grid.best_estimator_.model.save('models/cnn_model.h5')\n",
    "lstm_grid.best_estimator_.model.save('models/lstm_model.h5')"
   ]
  }
 ],
 "metadata": {
  "kernelspec": {
   "display_name": "gpuTraining",
   "language": "python",
   "name": "python3"
  },
  "language_info": {
   "codemirror_mode": {
    "name": "ipython",
    "version": 3
   },
   "file_extension": ".py",
   "mimetype": "text/x-python",
   "name": "python",
   "nbconvert_exporter": "python",
   "pygments_lexer": "ipython3",
   "version": "3.11.9"
  }
 },
 "nbformat": 4,
 "nbformat_minor": 2
}
